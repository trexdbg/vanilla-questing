{
 "cells": [
  {
   "cell_type": "code",
   "execution_count": 161,
   "metadata": {},
   "outputs": [],
   "source": [
    "import os\n",
    "import json\n",
    "import yaml"
   ]
  },
  {
   "cell_type": "markdown",
   "metadata": {},
   "source": [
    "### FUNCS"
   ]
  },
  {
   "cell_type": "code",
   "execution_count": 162,
   "metadata": {},
   "outputs": [],
   "source": [
    "def load_json(path):\n",
    "    with open(path) as json_file:\n",
    "        return json.load(json_file)"
   ]
  },
  {
   "cell_type": "code",
   "execution_count": 163,
   "metadata": {},
   "outputs": [],
   "source": [
    "def save_json(data, path):\n",
    "    with open(path, 'w') as outfile:\n",
    "        json.dump(data, outfile)"
   ]
  },
  {
   "cell_type": "code",
   "execution_count": 164,
   "metadata": {},
   "outputs": [],
   "source": [
    "def load_yaml(path):\n",
    "    with open(path, mode='r') as file:\n",
    "        return yaml.load(file, Loader=yaml.FullLoader)"
   ]
  },
  {
   "cell_type": "code",
   "execution_count": 138,
   "metadata": {},
   "outputs": [],
   "source": [
    "def save_yaml(data, path):\n",
    "    with open(path, 'w') as outfile:\n",
    "        yaml.dump(data, outfile)"
   ]
  },
  {
   "cell_type": "markdown",
   "metadata": {},
   "source": [
    "### CONVERT PATH"
   ]
  },
  {
   "cell_type": "code",
   "execution_count": 84,
   "metadata": {
    "scrolled": false
   },
   "outputs": [],
   "source": [
    "def convert(route):\n",
    "    path = []\n",
    "    \n",
    "    for page in route:\n",
    "        waypoints = []\n",
    "\n",
    "        for waypoint in page['waypoints']:\n",
    "\n",
    "            # WAYPOINT PROPERTIES\n",
    "            props = {}\n",
    "            wp = {}\n",
    "\n",
    "            # REFORMAT COORDS\n",
    "            props['coords'] = [\n",
    "                waypoint['coords']['x'],\n",
    "                waypoint['coords']['y']\n",
    "            ]\n",
    "\n",
    "            # COPY HEADER & TYPE\n",
    "            props['header'] = waypoint['header']\n",
    "            props['type'] = waypoint['type']\n",
    "\n",
    "            # ADD ALIGNMENT IF IT EXISTS\n",
    "            if 'align' in waypoint:\n",
    "                props['align'] = waypoint['align']\n",
    "\n",
    "            # ADD PROPERTIES TO WP\n",
    "            wp['waypoint'] = props\n",
    "\n",
    "            # ADD QUEST ENDINGS\n",
    "            if 'ends' in waypoint:\n",
    "                wp['ends'] = waypoint['ends']\n",
    "                \n",
    "            # ADD COMPLETIONS\n",
    "            if 'completed' in waypoint:\n",
    "                wp['completed'] = waypoint['completed']\n",
    "\n",
    "            # ADD QUEST STARTS\n",
    "            if 'starts' in waypoint:\n",
    "                wp['starts'] = waypoint['starts']\n",
    "\n",
    "            # ADD OBJECTIVES\n",
    "            if 'objectives' in waypoint:\n",
    "                wp['objectives'] = waypoint['objectives']\n",
    "\n",
    "            # ADD SPECIALS\n",
    "            if 'special' in waypoint:\n",
    "                wp['special'] = waypoint['special']\n",
    "\n",
    "            # ADD WAYPOINT TO CONTAINER\n",
    "            waypoints.append(wp)\n",
    "\n",
    "        # APPEND TO MAIN CONTAINER\n",
    "        path.append({\n",
    "            'page': {\n",
    "                'zone': page['zone'],\n",
    "                'level': page['experience'],\n",
    "                'waypoints': waypoints\n",
    "            }\n",
    "        })\n",
    "        \n",
    "    return path"
   ]
  },
  {
   "cell_type": "markdown",
   "metadata": {},
   "source": [
    "### CONVERT FILES"
   ]
  },
  {
   "cell_type": "code",
   "execution_count": 171,
   "metadata": {},
   "outputs": [],
   "source": [
    "def convert_file(path):\n",
    "    \n",
    "    path = '../src/routes/' + path + '.json'\n",
    "    raw = load_json(path)\n",
    "    route = raw['path']\n",
    "    \n",
    "    save_json({\n",
    "        'path': convert(route)\n",
    "    }, path)"
   ]
  },
  {
   "cell_type": "code",
   "execution_count": 172,
   "metadata": {},
   "outputs": [],
   "source": [
    "files = [\n",
    "    'alliance/human',\n",
    "    'alliance/nelf',\n",
    "    'alliance/gnorf',\n",
    "    'alliance/shared',\n",
    "    'horde/undead',\n",
    "    'horde/tauren',\n",
    "    'horde/trorc',\n",
    "    'horde/shared'\n",
    "]"
   ]
  },
  {
   "cell_type": "code",
   "execution_count": 173,
   "metadata": {},
   "outputs": [],
   "source": [
    "for file in files:\n",
    "    convert_file(file)"
   ]
  },
  {
   "cell_type": "code",
   "execution_count": null,
   "metadata": {},
   "outputs": [],
   "source": []
  }
 ],
 "metadata": {
  "kernelspec": {
   "display_name": "Python 3",
   "language": "python",
   "name": "python3"
  },
  "language_info": {
   "codemirror_mode": {
    "name": "ipython",
    "version": 3
   },
   "file_extension": ".py",
   "mimetype": "text/x-python",
   "name": "python",
   "nbconvert_exporter": "python",
   "pygments_lexer": "ipython3",
   "version": "3.8.5"
  }
 },
 "nbformat": 4,
 "nbformat_minor": 4
}
