{
 "cells": [
  {
   "cell_type": "code",
   "execution_count": 1,
   "metadata": {},
   "outputs": [],
   "source": [
    "import os"
   ]
  },
  {
   "cell_type": "code",
   "execution_count": 5,
   "metadata": {},
   "outputs": [],
   "source": [
    "all_maps = os.listdir('../src/interface/images/maps')"
   ]
  },
  {
   "cell_type": "code",
   "execution_count": 13,
   "metadata": {},
   "outputs": [],
   "source": [
    "def add_zone(zone):\n",
    "    return '#map.' + zone + ' { background: url(\\'../images/maps/' + zone + '.jpg\\'); }'"
   ]
  },
  {
   "cell_type": "code",
   "execution_count": 20,
   "metadata": {},
   "outputs": [
    {
     "name": "stdout",
     "output_type": "stream",
     "text": [
      "#map.durotar { background: url('../images/maps/durotar.jpg'); }\n",
      "#map.mulgore { background: url('../images/maps/mulgore.jpg'); }\n",
      "#map.ungoro { background: url('../images/maps/ungoro.jpg'); }\n",
      "#map.morogh { background: url('../images/maps/morogh.jpg'); }\n",
      "#map.duskwood { background: url('../images/maps/duskwood.jpg'); }\n",
      "#map.tanaris { background: url('../images/maps/tanaris.jpg'); }\n",
      "#map.epl { background: url('../images/maps/epl.jpg'); }\n",
      "#map.deadwind { background: url('../images/maps/deadwind.jpg'); }\n",
      "#map.undercity { background: url('../images/maps/undercity.jpg'); }\n",
      "#map.thunderbluff { background: url('../images/maps/thunderbluff.jpg'); }\n",
      "#map.steppes { background: url('../images/maps/steppes.jpg'); }\n",
      "#map.ashenvale { background: url('../images/maps/ashenvale.jpg'); }\n",
      "#map.loch { background: url('../images/maps/loch.jpg'); }\n",
      "#map.azshara { background: url('../images/maps/azshara.jpg'); }\n",
      "#map.arathi { background: url('../images/maps/arathi.jpg'); }\n",
      "#map.redridge { background: url('../images/maps/redridge.jpg'); }\n",
      "#map.hillsbrad { background: url('../images/maps/hillsbrad.jpg'); }\n",
      "#map.searing { background: url('../images/maps/searing.jpg'); }\n",
      "#map.feralas { background: url('../images/maps/feralas.jpg'); }\n",
      "#map.wpl { background: url('../images/maps/wpl.jpg'); }\n",
      "#map.ironforge { background: url('../images/maps/ironforge.jpg'); }\n",
      "#map.needles { background: url('../images/maps/needles.jpg'); }\n",
      "#map.badlands { background: url('../images/maps/badlands.jpg'); }\n",
      "#map.stonetalon { background: url('../images/maps/stonetalon.jpg'); }\n",
      "#map.blasted { background: url('../images/maps/blasted.jpg'); }\n",
      "#map.hinterlands { background: url('../images/maps/hinterlands.jpg'); }\n",
      "#map.silverpine { background: url('../images/maps/silverpine.jpg'); }\n",
      "#map.moonglade { background: url('../images/maps/moonglade.jpg'); }\n",
      "#map.tirisfal { background: url('../images/maps/tirisfal.jpg'); }\n",
      "#map.darnassus { background: url('../images/maps/darnassus.jpg'); }\n",
      "#map.winterspring { background: url('../images/maps/winterspring.jpg'); }\n",
      "#map.westfall { background: url('../images/maps/westfall.jpg'); }\n",
      "#map.wetlands { background: url('../images/maps/wetlands.jpg'); }\n",
      "#map.silithus { background: url('../images/maps/silithus.jpg'); }\n",
      "#map.stormwind { background: url('../images/maps/stormwind.jpg'); }\n",
      "#map.teldrassil { background: url('../images/maps/teldrassil.jpg'); }\n",
      "#map.stv { background: url('../images/maps/stv.jpg'); }\n",
      "#map.elwynn { background: url('../images/maps/elwynn.jpg'); }\n",
      "#map.orgrimmar { background: url('../images/maps/orgrimmar.jpg'); }\n",
      "#map.barrens { background: url('../images/maps/barrens.jpg'); }\n",
      "#map.alterac { background: url('../images/maps/alterac.jpg'); }\n",
      "#map.desolace { background: url('../images/maps/desolace.jpg'); }\n",
      "#map.dustwallow { background: url('../images/maps/dustwallow.jpg'); }\n",
      "#map.swamp { background: url('../images/maps/swamp.jpg'); }\n",
      "#map.darkshore { background: url('../images/maps/darkshore.jpg'); }\n",
      "#map.felwood { background: url('../images/maps/felwood.jpg'); }\n"
     ]
    }
   ],
   "source": [
    "for map in all_maps:\n",
    "    zone = map.replace('.jpg', '')\n",
    "    css_string = add_zone(zone)\n",
    "    \n",
    "    print(css_string)"
   ]
  },
  {
   "cell_type": "code",
   "execution_count": null,
   "metadata": {},
   "outputs": [],
   "source": []
  }
 ],
 "metadata": {
  "kernelspec": {
   "display_name": "Python 3",
   "language": "python",
   "name": "python3"
  },
  "language_info": {
   "codemirror_mode": {
    "name": "ipython",
    "version": 3
   },
   "file_extension": ".py",
   "mimetype": "text/x-python",
   "name": "python",
   "nbconvert_exporter": "python",
   "pygments_lexer": "ipython3",
   "version": "3.8.5"
  }
 },
 "nbformat": 4,
 "nbformat_minor": 4
}
